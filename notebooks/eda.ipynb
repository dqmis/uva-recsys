{
 "cells": [
  {
   "cell_type": "code",
   "execution_count": 1,
   "metadata": {},
   "outputs": [],
   "source": [
    "import matplotlib.pyplot as plt\n",
    "import numpy as np\n",
    "import pandas as pd\n",
    "\n",
    "\n",
    "# Loading all of that takes a lot of RAM, comment out what you don't need\n",
    "# Also replace relative paths with your own paths to datasets\n",
    "train_history_path = f\"data/large/train/history.parquet\"\n",
    "test_history_path = f\"data/testset/test/history.parquet\"\n",
    "train_behaviours_path = f\"data/large/train/behaviors.parquet\"\n",
    "test_behaviours_path = f\"data/testset/test/behaviors.parquet\"\n",
    "train_articles_path = f\"data/large/articles.parquet\"\n",
    "test_artilces_path = f\"data/testset/articles.parquet\"\n",
    "\n",
    "train_articles = pd.read_parquet(train_articles_path)\n",
    "test_articles = pd.read_parquet(test_artilces_path)\n",
    "train_history = pd.read_parquet(train_history_path)\n",
    "train_behaviours = pd.read_parquet(train_behaviours_path)\n",
    "test_history = pd.read_parquet(test_history_path)\n",
    "test_behaviours = pd.read_parquet(test_behaviours_path)"
   ]
  },
  {
   "cell_type": "code",
   "execution_count": null,
   "metadata": {},
   "outputs": [],
   "source": [
    "# ARTICLES ANALYSIS BELOW"
   ]
  },
  {
   "cell_type": "code",
   "execution_count": 11,
   "metadata": {},
   "outputs": [
    {
     "name": "stdout",
     "output_type": "stream",
     "text": [
      "Articles NaN info; rest of columns have no NaNs\n",
      "\n",
      "Train set NaN info:\n",
      "\n",
      "col                       | count      | count Nan  | % of NaN  \n",
      "-------------------------------------------------------------\n",
      "total_inviews             | 125541     | 107205     | 85.39     \n",
      "total_pageviews           | 125541     | 108600     | 86.51     \n",
      "total_read_time           | 125541     | 108600     | 86.51     \n",
      "\n",
      "Test set NaN info:\n",
      "\n",
      "col                       | count      | count Nan  | % of NaN  \n",
      "-------------------------------------------------------------\n",
      "total_inviews             | 125541     | 107205     | 85.39     \n",
      "total_pageviews           | 125541     | 108600     | 86.51     \n",
      "total_read_time           | 125541     | 108600     | 86.51     \n"
     ]
    }
   ],
   "source": [
    "cols = [\"total_inviews\", \"total_pageviews\", \"total_read_time\"]\n",
    "print(\"Articles NaN info; rest of columns have no NaNs\")\n",
    "# Print NaN info for relevant columns in articles\n",
    "for set, data in zip([\"Train\", \"Test\"], [train_articles, test_articles]):\n",
    "    print(f\"\\n{set} set NaN info:\\n\")\n",
    "    print(f\"{'col':<25} | {'count':<10} | {'count Nan':<10} | {'% of NaN':<10}\")\n",
    "    print(\"-------------------------------------------------------------\")\n",
    "    for col in cols:\n",
    "        if col not in data.columns:\n",
    "            continue\n",
    "        count = len(data[col])\n",
    "        nan_count = data[col].isna().sum()\n",
    "        nan_perc = nan_count / len(data) * 100\n",
    "        print(f\"{col:<25} | {count:<10} | {nan_count:<10} | {nan_perc:<10.2f}\")"
   ]
  },
  {
   "cell_type": "code",
   "execution_count": null,
   "metadata": {},
   "outputs": [],
   "source": [
    "# USER HISTORY ANALYSIS BELOW"
   ]
  },
  {
   "cell_type": "code",
   "execution_count": 2,
   "metadata": {},
   "outputs": [
    {
     "name": "stdout",
     "output_type": "stream",
     "text": [
      "User histories span: 20 days\n",
      "Behaviours span: 6 days\n"
     ]
    }
   ],
   "source": [
    "history_times = np.concatenate(train_history.impression_time_fixed)\n",
    "behaviour_times = train_behaviours.impression_time.to_numpy()\n",
    "history_delta = history_times.max() - history_times.min()\n",
    "behaviour_delta = behaviour_times.max() - behaviour_times.min()\n",
    "\n",
    "print(f\"User histories span: {np.timedelta64(history_delta, 'D')}\")\n",
    "print(f\"Behaviours span: {np.timedelta64(behaviour_delta, 'D')}\")"
   ]
  },
  {
   "cell_type": "code",
   "execution_count": 2,
   "metadata": {},
   "outputs": [
    {
     "name": "stdout",
     "output_type": "stream",
     "text": [
      "Statistics for length of user history:\n",
      "\n",
      "set        | count      | mean       | std        | min        | max       \n",
      "-----------------------------------------------------------------------\n",
      "test       | 807677     | 144.64     | 163.69     | 5.0        | 1530.0    \n",
      "train      | 788090     | 158.84     | 178.25     | 5.0        | 2696.0    \n"
     ]
    },
    {
     "data": {
      "text/plain": [
       "<matplotlib.legend.Legend at 0x7fba043399c0>"
      ]
     },
     "execution_count": 2,
     "metadata": {},
     "output_type": "execute_result"
    },
    {
     "data": {
      "image/png": "[encoded data removed]",
      "text/plain": [
       "<Figure size 640x480 with 1 Axes>"
      ]
     },
     "metadata": {},
     "output_type": "display_data"
    }
   ],
   "source": [
    "print(\"Statistics for length of user history:\\n\")\n",
    "print(f\"{'set':<10} | {'count':<10} | {'mean':<10} | {'std':<10} | {'min':<10} | {'max':<10}\")\n",
    "print(\"-----------------------------------------------------------------------\")\n",
    "for set, data in zip([\"test\", \"train\"], [test_history, train_history]):\n",
    "    history_lengths = data.article_id_fixed.transform(lambda x: x.size)\n",
    "    stats = list(history_lengths.describe())\n",
    "    plt.hist(history_lengths, bins=50, range=(5, 1300))\n",
    "    print(f\"{set:<10} | {int(stats[0]):<10} | {stats[1]:<10.2f} | {stats[2]:<10.2f} | {stats[3]:<10} | {stats[7]:<10}\")\n",
    "plt.xlabel(\"History length\")\n",
    "plt.ylabel(\"Frequency\")\n",
    "plt.legend([\"Test\", \"Train\"])"
   ]
  },
  {
   "cell_type": "code",
   "execution_count": null,
   "metadata": {},
   "outputs": [],
   "source": [
    "# BEHAVIOUR ANALYSIS BELOW"
   ]
  },
  {
   "cell_type": "code",
   "execution_count": 4,
   "metadata": {},
   "outputs": [
    {
     "name": "stdout",
     "output_type": "stream",
     "text": [
      "IDs from behaviour data that are in both test and train sets:\n",
      "\n",
      "column name     | n in train | % in train\n",
      "------------------------------------------\n",
      "impression_id   | 0          | 0.00  %\n",
      "session_id      | 977165     | 7.22  %\n",
      "user_id         | 10461086   | 77.28 %\n"
     ]
    }
   ],
   "source": [
    "# Check which impressions/sessions/users from test are in train\n",
    "cols = [\"impression_id\", \"session_id\", \"user_id\"]\n",
    "print(\"IDs from behaviour data that are in both test and train sets:\\n\")\n",
    "print(f\"{'column name':<15} | {'n in train':<10} | {'% in train':<6}\")\n",
    "print(\"------------------------------------------\")\n",
    "for col in cols:\n",
    "    train_session_ids = train_behaviours[col]\n",
    "    in_train_sess = test_behaviours[col].isin(train_session_ids).sum()\n",
    "    in_train_percentage = in_train_sess / len(test_behaviours) * 100\n",
    "    print(f\"{col:<15} | {in_train_sess:<10} | {in_train_percentage:<6.2f}%\")"
   ]
  },
  {
   "cell_type": "code",
   "execution_count": 8,
   "metadata": {},
   "outputs": [
    {
     "name": "stdout",
     "output_type": "stream",
     "text": [
      "\n",
      "Session length statistics:\n",
      "\n",
      "set        | count      | mean       | std        | min        | max       \n",
      "---------------------------------------------------------------------\n",
      "test       | 6566533    | 2.06       | 78.07      | 1.0        | 200000.0  \n",
      "train      | 6227464    | 1.94       | 1.53       | 1.0        | 66.0      \n"
     ]
    },
    {
     "data": {
      "text/plain": [
       "<matplotlib.legend.Legend at 0x7f68ad878c40>"
      ]
     },
     "execution_count": 8,
     "metadata": {},
     "output_type": "execute_result"
    },
    {
     "data": {
      "image/png": "[encoded data removed]",
      "text/plain": [
       "<Figure size 640x480 with 1 Axes>"
      ]
     },
     "metadata": {},
     "output_type": "display_data"
    }
   ],
   "source": [
    "# Calculate session lengths statistics and plot histograms\n",
    "print(\"\\nSession length statistics:\\n\")\n",
    "print(f\"{'set':<10} | {'count':<10} | {'mean':<10} | {'std':<10} | {'min':<10} | {'max':<10}\")\n",
    "print(\"---------------------------------------------------------------------\")\n",
    "for name, data in zip([\"test\", \"train\"], [test_behaviours, train_behaviours]):\n",
    "    session_lengths = data.groupby(\"session_id\").size()\n",
    "    stats = list(session_lengths.describe())\n",
    "    plt.hist(session_lengths, bins=50, range=(1, 10))\n",
    "    print(f\"{name:<10} | {int(stats[0]):<10} | {stats[1]:<10.2f} | {stats[2]:<10.2f} | {stats[3]:<10} | {stats[7]:<10}\")\n",
    "plt.xlabel(\"Session length\")\n",
    "plt.ylabel(\"Number of sessions\")\n",
    "plt.legend([\"Test\", \"Train\"])"
   ]
  },
  {
   "cell_type": "code",
   "execution_count": 19,
   "metadata": {},
   "outputs": [
    {
     "name": "stdout",
     "output_type": "stream",
     "text": [
      "Predicted clicks lengths statistics:\n",
      "\n",
      "count      | mean       | std        | min        | max       \n",
      "---------------------------------------------------------\n",
      "12063890   | 1.01       | 0.09       | 1.0        | 10.0      \n",
      "\n",
      "Percentage of single click sessions: 99.50%\n"
     ]
    },
    {
     "data": {
      "image/png": "[encoded data removed]",
      "text/plain": [
       "<Figure size 640x480 with 1 Axes>"
      ]
     },
     "metadata": {},
     "output_type": "display_data"
    }
   ],
   "source": [
    "print(\"Predicted clicks lengths statistics:\\n\")\n",
    "print(f\"{'count':<10} | {'mean':<10} | {'std':<10} | {'min':<10} | {'max':<10}\")\n",
    "print(\"---------------------------------------------------------\")\n",
    "predict_lengths = train_behaviours.article_ids_clicked.apply(lambda x: len(x))\n",
    "stats = list(predict_lengths.describe())\n",
    "plt.hist(predict_lengths, bins=50, range=(1, 10))\n",
    "plt.yscale(\"log\")\n",
    "print(f\"{int(stats[0]):<10} | {stats[1]:<10.2f} | {stats[2]:<10.2f} | {stats[3]:<10} | {stats[7]:<10}\")\n",
    "\n",
    "len1_percent = predict_lengths[predict_lengths == 1].count() / len(predict_lengths) * 100\n",
    "print(f\"\\nPercentage of single click sessions: {len1_percent:.2f}%\")"
   ]
  },
  {
   "cell_type": "code",
   "execution_count": 13,
   "metadata": {},
   "outputs": [
    {
     "name": "stdout",
     "output_type": "stream",
     "text": [
      "Behaviours NaN info; rest of columns have no NaNs\n",
      "\n",
      "Train set NaN info:\n",
      "\n",
      "col                       | count      | count Nan  | % of NaN  \n",
      "-------------------------------------------------------------\n",
      "scroll_percentage         | 12063890   | 8523902    | 70.66     \n",
      "gender                    | 12063890   | 11176907   | 92.65     \n",
      "postcode                  | 12063890   | 11795148   | 97.77     \n",
      "age                       | 12063890   | 11694243   | 96.94     \n",
      "next_read_time            | 12063890   | 319928     | 2.65      \n",
      "next_scroll_percentage    | 12063890   | 1360982    | 11.28     \n",
      "\n",
      "Test set NaN info:\n",
      "\n",
      "col                       | count      | count Nan  | % of NaN  \n",
      "-------------------------------------------------------------\n",
      "scroll_percentage         | 13536710   | 9687485    | 71.56     \n",
      "gender                    | 13536710   | 12579928   | 92.93     \n",
      "postcode                  | 13536710   | 13246007   | 97.85     \n",
      "age                       | 13536710   | 13139031   | 97.06     \n"
     ]
    }
   ],
   "source": [
    "cols = [\"scroll_percentage\", \"gender\", \"postcode\", \"age\", \"next_read_time\", \"next_scroll_percentage\"]\n",
    "# Print NaN info for relevant columns in behaviours data\n",
    "print(\"Behaviours NaN info; rest of columns have no NaNs\")\n",
    "for set, data in zip([\"Train\", \"Test\"], [train_behaviours, test_behaviours]):\n",
    "    print(f\"\\n{set} set NaN info:\\n\")\n",
    "    print(f\"{'col':<25} | {'count':<10} | {'count Nan':<10} | {'% of NaN':<10}\")\n",
    "    print(\"-------------------------------------------------------------\")\n",
    "    for col in cols:\n",
    "        if col not in data.columns:\n",
    "            continue\n",
    "        count = len(data[col])\n",
    "        nan_count = data[col].isna().sum()\n",
    "        nan_perc = nan_count / len(data) * 100\n",
    "        print(f\"{col:<25} | {count:<10} | {nan_count:<10} | {nan_perc:<10.2f}\")"
   ]
  }
 ],
 "metadata": {
  "kernelspec": {
   "display_name": "torch2",
   "language": "python",
   "name": "python3"
  },
  "language_info": {
   "codemirror_mode": {
    "name": "ipython",
    "version": 3
   },
   "file_extension": ".py",
   "mimetype": "text/x-python",
   "name": "python",
   "nbconvert_exporter": "python",
   "pygments_lexer": "ipython3",
   "version": "3.10.10"
  }
 },
 "nbformat": 4,
 "nbformat_minor": 2
}
