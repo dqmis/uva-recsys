{
 "cells": [
  {
   "cell_type": "code",
   "execution_count": 1,
   "id": "86ddbdc0-584e-4cd4-9fc0-1f75d030b9e8",
   "metadata": {
    "tags": []
   },
   "outputs": [],
   "source": [
    "import pandas as pd"
   ]
  },
  {
   "cell_type": "code",
   "execution_count": 2,
   "id": "16523100-fab3-4814-ac1d-488f92831530",
   "metadata": {
    "tags": []
   },
   "outputs": [],
   "source": [
    "test_df = pd.read_parquet('../../../data/ebnerd_testset/ebnerd_testset/test/behaviors.parquet')"
   ]
  },
  {
   "cell_type": "code",
   "execution_count": 3,
   "id": "38cbf8df-66ec-4556-8626-1329e2483778",
   "metadata": {
    "tags": []
   },
   "outputs": [],
   "source": [
    "inviews_df = test_df[['article_ids_inview']]"
   ]
  },
  {
   "cell_type": "code",
   "execution_count": 4,
   "id": "40be88e8-0ecc-4a72-92bb-2874322dce84",
   "metadata": {},
   "outputs": [],
   "source": [
    "vals = inviews_df['article_ids_inview'].values"
   ]
  },
  {
   "cell_type": "code",
   "execution_count": 5,
   "id": "ab78f5ab-997a-4f09-b497-ccb40f5f9b48",
   "metadata": {},
   "outputs": [],
   "source": [
    "inviews = []\n",
    "for i in vals:\n",
    "    inviews.append(i.tolist())"
   ]
  },
  {
   "cell_type": "code",
   "execution_count": 6,
   "id": "41866563-619b-45e2-81bc-99816bd08f2d",
   "metadata": {
    "tags": []
   },
   "outputs": [],
   "source": [
    "import pickle\n",
    "\n",
    "with open('../../../data/ebnerd_testset/inviews.pkl', 'wb') as file:\n",
    "    pickle.dump(inviews, file)"
   ]
  },
  {
   "cell_type": "code",
   "execution_count": null,
   "id": "4d36112c-c12e-47d7-a4e0-738089520c30",
   "metadata": {},
   "outputs": [],
   "source": [
    "test_df = test_df.reset_index()"
   ]
  },
  {
   "cell_type": "code",
   "execution_count": 22,
   "id": "10cfb8f4-8641-4d75-a6d1-4b160ca179cf",
   "metadata": {
    "tags": []
   },
   "outputs": [],
   "source": [
    "test_df_index = test_df[['index', 'user_id', 'impression_id']]"
   ]
  },
  {
   "cell_type": "code",
   "execution_count": 24,
   "id": "f83adc28-5093-4493-ae49-0713f194c8d1",
   "metadata": {
    "tags": []
   },
   "outputs": [
    {
     "data": {
      "text/html": [
       "<div>\n",
       "<style scoped>\n",
       "    .dataframe tbody tr th:only-of-type {\n",
       "        vertical-align: middle;\n",
       "    }\n",
       "\n",
       "    .dataframe tbody tr th {\n",
       "        vertical-align: top;\n",
       "    }\n",
       "\n",
       "    .dataframe thead th {\n",
       "        text-align: right;\n",
       "    }\n",
       "</style>\n",
       "<table border=\"1\" class=\"dataframe\">\n",
       "  <thead>\n",
       "    <tr style=\"text-align: right;\">\n",
       "      <th></th>\n",
       "      <th>index</th>\n",
       "      <th>user_id</th>\n",
       "      <th>impression_id</th>\n",
       "    </tr>\n",
       "  </thead>\n",
       "  <tbody>\n",
       "    <tr>\n",
       "      <th>0</th>\n",
       "      <td>0</td>\n",
       "      <td>35982</td>\n",
       "      <td>6451339</td>\n",
       "    </tr>\n",
       "    <tr>\n",
       "      <th>1</th>\n",
       "      <td>1</td>\n",
       "      <td>36012</td>\n",
       "      <td>6451363</td>\n",
       "    </tr>\n",
       "    <tr>\n",
       "      <th>2</th>\n",
       "      <td>2</td>\n",
       "      <td>36162</td>\n",
       "      <td>6451382</td>\n",
       "    </tr>\n",
       "    <tr>\n",
       "      <th>3</th>\n",
       "      <td>3</td>\n",
       "      <td>36162</td>\n",
       "      <td>6451383</td>\n",
       "    </tr>\n",
       "    <tr>\n",
       "      <th>4</th>\n",
       "      <td>4</td>\n",
       "      <td>36162</td>\n",
       "      <td>6451385</td>\n",
       "    </tr>\n",
       "    <tr>\n",
       "      <th>...</th>\n",
       "      <td>...</td>\n",
       "      <td>...</td>\n",
       "      <td>...</td>\n",
       "    </tr>\n",
       "    <tr>\n",
       "      <th>13536705</th>\n",
       "      <td>13536705</td>\n",
       "      <td>1589163</td>\n",
       "      <td>0</td>\n",
       "    </tr>\n",
       "    <tr>\n",
       "      <th>13536706</th>\n",
       "      <td>13536706</td>\n",
       "      <td>1699456</td>\n",
       "      <td>0</td>\n",
       "    </tr>\n",
       "    <tr>\n",
       "      <th>13536707</th>\n",
       "      <td>13536707</td>\n",
       "      <td>635479</td>\n",
       "      <td>0</td>\n",
       "    </tr>\n",
       "    <tr>\n",
       "      <th>13536708</th>\n",
       "      <td>13536708</td>\n",
       "      <td>251030</td>\n",
       "      <td>0</td>\n",
       "    </tr>\n",
       "    <tr>\n",
       "      <th>13536709</th>\n",
       "      <td>13536709</td>\n",
       "      <td>1225161</td>\n",
       "      <td>0</td>\n",
       "    </tr>\n",
       "  </tbody>\n",
       "</table>\n",
       "<p>13536710 rows × 3 columns</p>\n",
       "</div>"
      ],
      "text/plain": [
       "             index  user_id  impression_id\n",
       "0                0    35982        6451339\n",
       "1                1    36012        6451363\n",
       "2                2    36162        6451382\n",
       "3                3    36162        6451383\n",
       "4                4    36162        6451385\n",
       "...            ...      ...            ...\n",
       "13536705  13536705  1589163              0\n",
       "13536706  13536706  1699456              0\n",
       "13536707  13536707   635479              0\n",
       "13536708  13536708   251030              0\n",
       "13536709  13536709  1225161              0\n",
       "\n",
       "[13536710 rows x 3 columns]"
      ]
     },
     "execution_count": 24,
     "metadata": {},
     "output_type": "execute_result"
    }
   ],
   "source": [
    "test_df_index"
   ]
  },
  {
   "cell_type": "code",
   "execution_count": 25,
   "id": "8f70c453-2d7c-43eb-8f50-e191231454fd",
   "metadata": {
    "tags": []
   },
   "outputs": [],
   "source": [
    "test_df_index.to_parquet('../../../data/ebnerd_testset/index.parquet')"
   ]
  }
 ],
 "metadata": {
  "environment": {
   "kernel": "fomo",
   "name": "common-cu121.m121",
   "type": "gcloud",
   "uri": "us-docker.pkg.dev/deeplearning-platform-release/gcr.io/base-cu121:m121"
  },
  "kernelspec": {
   "display_name": "fomo (Local)",
   "language": "python",
   "name": "fomo"
  },
  "language_info": {
   "codemirror_mode": {
    "name": "ipython",
    "version": 3
   },
   "file_extension": ".py",
   "mimetype": "text/x-python",
   "name": "python",
   "nbconvert_exporter": "python",
   "pygments_lexer": "ipython3",
   "version": "3.11.6"
  }
 },
 "nbformat": 4,
 "nbformat_minor": 5
}
