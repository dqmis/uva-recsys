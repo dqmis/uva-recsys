{
 "cells": [
  {
   "cell_type": "code",
   "execution_count": 1,
   "metadata": {},
   "outputs": [
    {
     "name": "stderr",
     "output_type": "stream",
     "text": [
      "/Users/dominykas.seputis/github/uva-recsys/.venv/lib/python3.11/site-packages/merlin/dtypes/mappings/triton.py:53: UserWarning: Triton dtype mappings did not load successfully due to an error: No module named 'tritonclient'\n",
      "  warn(f\"Triton dtype mappings did not load successfully due to an error: {exc.msg}\")\n",
      "/Users/dominykas.seputis/github/uva-recsys/.venv/lib/python3.11/site-packages/tqdm/auto.py:21: TqdmWarning: IProgress not found. Please update jupyter and ipywidgets. See https://ipywidgets.readthedocs.io/en/stable/user_install.html\n",
      "  from .autonotebook import tqdm as notebook_tqdm\n"
     ]
    }
   ],
   "source": [
    "from transformers4rec import torch as tr\n",
    "from transformers4rec.torch.ranking_metric import NDCGAt, RecallAt\n",
    "\n",
    "# Create a schema or read one from disk: tr.Schema().from_json(SCHEMA_PATH).\n",
    "schema: tr.Schema = tr.data.tabular_sequence_testing_data.schema\n",
    "\n",
    "max_sequence_length, d_model = 20, 64\n",
    "\n",
    "# Define the input module to process the tabular input features.\n",
    "input_module = tr.TabularSequenceFeatures.from_schema(\n",
    "    schema,\n",
    "    max_sequence_length=max_sequence_length,\n",
    "    continuous_projection=d_model,\n",
    "    aggregation=\"concat\",\n",
    "    masking=\"causal\",\n",
    ")\n",
    "\n",
    "# Define a transformer-config like the XLNet architecture.\n",
    "transformer_config = tr.XLNetConfig.build(\n",
    "    d_model=d_model, n_head=4, n_layer=2, total_seq_length=max_sequence_length\n",
    ")\n",
    "\n",
    "# Define the model block including: inputs, masking, projection and transformer block.\n",
    "body = tr.SequentialBlock(\n",
    "    input_module,\n",
    "    tr.MLPBlock([d_model]),\n",
    "    tr.TransformerBlock(transformer_config, masking=input_module.masking)\n",
    ")\n",
    "\n",
    "# Define the evaluation top-N metrics and the cut-offs\n",
    "metrics = [NDCGAt(top_ks=[20, 40], labels_onehot=True),\n",
    "           RecallAt(top_ks=[20, 40], labels_onehot=True)]\n",
    "\n",
    "# Define a head with NextItemPredictionTask.\n",
    "head = tr.Head(\n",
    "    body,\n",
    "    tr.NextItemPredictionTask(weight_tying=True, metrics=metrics),\n",
    "    inputs=input_module,\n",
    ")\n",
    "\n",
    "# Get the end-to-end Model class.\n",
    "model = tr.Model(head)"
   ]
  },
  {
   "cell_type": "code",
   "execution_count": 9,
   "metadata": {},
   "outputs": [],
   "source": [
    "import transformers4rec"
   ]
  },
  {
   "cell_type": "code",
   "execution_count": 7,
   "metadata": {},
   "outputs": [
    {
     "data": {
      "text/plain": [
       "[{'name': 'timestamp/age_days/LogOp/Normalize/list', 'value_count': {'min': '2', 'max': '185'}, 'type': 'FLOAT', 'float_domain': {'name': 'timestamp/age_days/LogOp/Normalize/list', 'min': -2.917729139328003, 'max': 1.5231701135635376}, 'annotation': {'tag': ['continuous', 'list']}}, {'name': 'timestamp/hour/list', 'value_count': {'min': '2', 'max': '185'}, 'type': 'FLOAT', 'float_domain': {'name': 'timestamp/hour/list', 'min': 5.7866054703481495e-06, 'max': 1.605135440826416}, 'annotation': {'tag': ['continuous', 'time', 'list']}}, {'name': 'timestamp/weekday/list', 'value_count': {'min': '2', 'max': '185'}, 'type': 'FLOAT', 'float_domain': {'name': 'timestamp/weekday/list', 'min': 0.00013345430488698184, 'max': 1.568290114402771}, 'annotation': {'tag': ['continuous', 'time', 'list']}}, {'name': 'timestamp/day/list', 'value_count': {'min': '2', 'max': '185'}, 'type': 'FLOAT', 'float_domain': {'name': 'timestamp/day/list', 'min': 0.055881768465042114, 'max': 1.7342302799224854}, 'annotation': {'tag': ['continuous', 'time', 'list']}}, {'name': 'timestamp/month/list', 'value_count': {'min': '2', 'max': '185'}, 'type': 'FLOAT', 'float_domain': {'name': 'timestamp/month/list', 'min': 0.5930372476577759, 'max': 1.3344756364822388}, 'annotation': {'tag': ['continuous', 'time', 'list']}}, {'name': 'timestamp/year/list', 'value_count': {'min': '2', 'max': '185'}, 'type': 'FLOAT', 'float_domain': {'name': 'timestamp/year/list', 'min': 0.9999997019767761, 'max': 0.9999997019767761}, 'annotation': {'tag': ['continuous', 'time', 'list']}}, {'name': 'timestamp/hour/sin/list', 'value_count': {'min': '2', 'max': '185'}, 'type': 'FLOAT', 'float_domain': {'name': 'timestamp/hour/sin/list', 'min': 1.7767292774806265e-06, 'max': 0.40796470642089844}, 'annotation': {'tag': ['continuous', 'time', 'list']}}, {'name': 'timestamp/hour/cos/list', 'value_count': {'min': '2', 'max': '185'}, 'type': 'FLOAT', 'float_domain': {'name': 'timestamp/hour/cos/list', 'min': 0.9129977226257324, 'max': 1.0}, 'annotation': {'tag': ['continuous', 'time', 'list']}}, {'name': 'timestamp/weekday/sin/list', 'value_count': {'min': '2', 'max': '185'}, 'type': 'FLOAT', 'float_domain': {'name': 'timestamp/weekday/sin/list', 'min': 0.7421683073043823, 'max': 0.9995285272598267}, 'annotation': {'tag': ['time', 'list', 'continuous']}}, {'name': 'timestamp/weekday/cos/list', 'value_count': {'min': '2', 'max': '185'}, 'type': 'FLOAT', 'float_domain': {'name': 'timestamp/weekday/cos/list', 'min': -0.6702135801315308, 'max': 0.6233955025672913}, 'annotation': {'tag': ['time', 'list', 'continuous']}}, {'name': 'item_id/list', 'value_count': {'min': '2', 'max': '185'}, 'type': 'INT', 'int_domain': {'name': 'item_id/list', 'min': '1', 'max': '51996', 'is_categorical': True}, 'annotation': {'tag': ['item_id', 'list', 'categorical', 'item']}}, {'name': 'category/list', 'value_count': {'min': '2', 'max': '185'}, 'type': 'INT', 'int_domain': {'name': 'category/list', 'min': '1', 'max': '332', 'is_categorical': True}, 'annotation': {'tag': ['list', 'categorical', 'item']}}, {'name': 'user_country', 'type': 'INT', 'int_domain': {'name': 'session_id', 'min': '1', 'max': '62', 'is_categorical': True}, 'annotation': {'tag': ['categorical']}}, {'name': 'user_age', 'type': 'FLOAT', 'float_domain': {'name': 'user_age', 'max': 0.4079650044441223}, 'annotation': {'tag': ['continuous']}}]"
      ]
     },
     "execution_count": 7,
     "metadata": {},
     "output_type": "execute_result"
    }
   ],
   "source": [
    "schema"
   ]
  },
  {
   "cell_type": "code",
   "execution_count": 10,
   "metadata": {},
   "outputs": [
    {
     "data": {
      "text/plain": [
       "transformers4rec.torch.tabular.base.TabularModule"
      ]
     },
     "execution_count": 10,
     "metadata": {},
     "output_type": "execute_result"
    }
   ],
   "source": [
    "transformers4rec.torch.TabularModule(\n",
    "\n",
    ")"
   ]
  },
  {
   "cell_type": "code",
   "execution_count": 2,
   "metadata": {},
   "outputs": [
    {
     "data": {
      "text/plain": [
       "Model(\n",
       "  (heads): ModuleList(\n",
       "    (0): Head(\n",
       "      (body): SequentialBlock(\n",
       "        (0): TabularSequenceFeatures(\n",
       "          (_aggregation): ConcatFeatures()\n",
       "          (to_merge): ModuleDict(\n",
       "            (continuous_module): SequentialBlock(\n",
       "              (0): ContinuousFeatures(\n",
       "                (filter_features): FilterFeatures()\n",
       "                (_aggregation): ConcatFeatures()\n",
       "              )\n",
       "              (1): SequentialBlock(\n",
       "                (0): DenseBlock(\n",
       "                  (0): Linear(in_features=11, out_features=64, bias=True)\n",
       "                  (1): ReLU(inplace=True)\n",
       "                )\n",
       "              )\n",
       "              (2): AsTabular()\n",
       "            )\n",
       "            (categorical_module): SequenceEmbeddingFeatures(\n",
       "              (filter_features): FilterFeatures()\n",
       "              (embedding_tables): ModuleDict(\n",
       "                (item_id/list): Embedding(51997, 64, padding_idx=0)\n",
       "                (category/list): Embedding(333, 64, padding_idx=0)\n",
       "                (user_country): Embedding(63, 64, padding_idx=0)\n",
       "              )\n",
       "            )\n",
       "            (pretrained_embedding_module): PretrainedEmbeddingFeatures(\n",
       "              (filter_features): FilterFeatures()\n",
       "            )\n",
       "          )\n",
       "          (_masking): CausalLanguageModeling()\n",
       "        )\n",
       "        (1): SequentialBlock(\n",
       "          (0): DenseBlock(\n",
       "            (0): Linear(in_features=256, out_features=64, bias=True)\n",
       "            (1): ReLU(inplace=True)\n",
       "          )\n",
       "        )\n",
       "        (2): TansformerBlock(\n",
       "          (transformer): XLNetModel(\n",
       "            (word_embedding): Embedding(1, 64)\n",
       "            (layer): ModuleList(\n",
       "              (0-1): 2 x XLNetLayer(\n",
       "                (rel_attn): XLNetRelativeAttention(\n",
       "                  (layer_norm): LayerNorm((64,), eps=0.03, elementwise_affine=True)\n",
       "                  (dropout): Dropout(p=0.3, inplace=False)\n",
       "                )\n",
       "                (ff): XLNetFeedForward(\n",
       "                  (layer_norm): LayerNorm((64,), eps=0.03, elementwise_affine=True)\n",
       "                  (layer_1): Linear(in_features=64, out_features=256, bias=True)\n",
       "                  (layer_2): Linear(in_features=256, out_features=64, bias=True)\n",
       "                  (dropout): Dropout(p=0.3, inplace=False)\n",
       "                  (activation_function): GELUActivation()\n",
       "                )\n",
       "                (dropout): Dropout(p=0.3, inplace=False)\n",
       "              )\n",
       "            )\n",
       "            (dropout): Dropout(p=0.3, inplace=False)\n",
       "          )\n",
       "          (masking): CausalLanguageModeling()\n",
       "        )\n",
       "      )\n",
       "      (prediction_task_dict): ModuleDict(\n",
       "        (next-item): NextItemPredictionTask(\n",
       "          (sequence_summary): SequenceSummary(\n",
       "            (summary): Identity()\n",
       "            (activation): Identity()\n",
       "            (first_dropout): Identity()\n",
       "            (last_dropout): Identity()\n",
       "          )\n",
       "          (metrics): ModuleList(\n",
       "            (0): NDCGAt()\n",
       "            (1): RecallAt()\n",
       "          )\n",
       "          (loss): CrossEntropyLoss()\n",
       "          (embeddings): SequenceEmbeddingFeatures(\n",
       "            (filter_features): FilterFeatures()\n",
       "            (embedding_tables): ModuleDict(\n",
       "              (item_id/list): Embedding(51997, 64, padding_idx=0)\n",
       "              (category/list): Embedding(333, 64, padding_idx=0)\n",
       "              (user_country): Embedding(63, 64, padding_idx=0)\n",
       "            )\n",
       "          )\n",
       "          (item_embedding_table): Embedding(51997, 64, padding_idx=0)\n",
       "          (masking): CausalLanguageModeling()\n",
       "          (pre): Block(\n",
       "            (module): NextItemPredictionTask(\n",
       "              (item_embedding_table): Embedding(51997, 64, padding_idx=0)\n",
       "            )\n",
       "          )\n",
       "        )\n",
       "      )\n",
       "    )\n",
       "  )\n",
       ")"
      ]
     },
     "execution_count": 2,
     "metadata": {},
     "output_type": "execute_result"
    }
   ],
   "source": [
    "model"
   ]
  },
  {
   "cell_type": "code",
   "execution_count": 6,
   "metadata": {},
   "outputs": [
    {
     "ename": "TypeError",
     "evalue": "FeatureConfig.__init__() missing 1 required positional argument: 'table'",
     "output_type": "error",
     "traceback": [
      "\u001b[0;31m---------------------------------------------------------------------------\u001b[0m",
      "\u001b[0;31mTypeError\u001b[0m                                 Traceback (most recent call last)",
      "Cell \u001b[0;32mIn[6], line 4\u001b[0m\n\u001b[1;32m      1\u001b[0m \u001b[38;5;28;01mfrom\u001b[39;00m \u001b[38;5;21;01mtransformers4rec\u001b[39;00m \u001b[38;5;28;01mimport\u001b[39;00m torch \u001b[38;5;28;01mas\u001b[39;00m tconf\n\u001b[1;32m      3\u001b[0m \u001b[38;5;66;03m# Define schema to include text embedding feature\u001b[39;00m\n\u001b[0;32m----> 4\u001b[0m schema \u001b[38;5;241m=\u001b[39m tconf\u001b[38;5;241m.\u001b[39mSchema([\u001b[43mtconf\u001b[49m\u001b[38;5;241;43m.\u001b[39;49m\u001b[43mFeatureConfig\u001b[49m\u001b[43m(\u001b[49m\u001b[43mname\u001b[49m\u001b[38;5;241;43m=\u001b[39;49m\u001b[38;5;124;43m\"\u001b[39;49m\u001b[38;5;124;43muser_id\u001b[39;49m\u001b[38;5;124;43m\"\u001b[39;49m\u001b[43m)\u001b[49m,\n\u001b[1;32m      5\u001b[0m                        tconf\u001b[38;5;241m.\u001b[39mFeatureConfig(name\u001b[38;5;241m=\u001b[39m\u001b[38;5;124m\"\u001b[39m\u001b[38;5;124mitem_id\u001b[39m\u001b[38;5;124m\"\u001b[39m),\n\u001b[1;32m      6\u001b[0m                        tconf\u001b[38;5;241m.\u001b[39mFeatureConfig(name\u001b[38;5;241m=\u001b[39m\u001b[38;5;124m\"\u001b[39m\u001b[38;5;124mtext_embeddings\u001b[39m\u001b[38;5;124m\"\u001b[39m,\n\u001b[1;32m      7\u001b[0m                                            embedding_dim\u001b[38;5;241m=\u001b[39mtext_embeddings\u001b[38;5;241m.\u001b[39mshape[\u001b[38;5;241m1\u001b[39m])])\n",
      "\u001b[0;31mTypeError\u001b[0m: FeatureConfig.__init__() missing 1 required positional argument: 'table'"
     ]
    }
   ],
   "source": [
    "from transformers4rec import torch as tconf\n",
    "\n",
    "# Define schema to include text embedding feature\n",
    "schema = tconf.Schema([tconf.FeatureConfig(name=\"user_id\"),\n",
    "                       tconf.FeatureConfig(name=\"item_id\"),\n",
    "                       tconf.FeatureConfig(name=\"text_embeddings\",\n",
    "                                           embedding_dim=text_embeddings.shape[1])])"
   ]
  }
 ],
 "metadata": {
  "kernelspec": {
   "display_name": ".venv",
   "language": "python",
   "name": "python3"
  },
  "language_info": {
   "codemirror_mode": {
    "name": "ipython",
    "version": 3
   },
   "file_extension": ".py",
   "mimetype": "text/x-python",
   "name": "python",
   "nbconvert_exporter": "python",
   "pygments_lexer": "ipython3",
   "version": "3.11.6"
  }
 },
 "nbformat": 4,
 "nbformat_minor": 2
}
