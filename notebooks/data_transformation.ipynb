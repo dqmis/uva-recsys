{
 "cells": [
  {
   "cell_type": "code",
   "execution_count": 1,
   "metadata": {
    "tags": []
   },
   "outputs": [],
   "source": [
    "import pandas as pd\n",
    "import os\n",
    "import dask.dataframe as dd\n",
    "import warnings\n",
    "from tqdm import tqdm"
   ]
  },
  {
   "cell_type": "code",
   "execution_count": 5,
   "metadata": {
    "tags": []
   },
   "outputs": [],
   "source": [
    "warnings.filterwarnings('ignore')"
   ]
  },
  {
   "cell_type": "code",
   "execution_count": 3,
   "metadata": {
    "tags": []
   },
   "outputs": [],
   "source": [
    "#TEXT_EMBEDDING_PATH = \"../data/artifacts/google_bert_base_multilingual_cased/google_bert_base_multilingual_cased/bert_base_multilingual_cased.parquet\""
   ]
  },
  {
   "cell_type": "code",
   "execution_count": 6,
   "metadata": {
    "tags": []
   },
   "outputs": [],
   "source": [
    "SOURCE = \"ebnerd_large\""
   ]
  },
  {
   "cell_type": "code",
   "execution_count": 22,
   "metadata": {
    "tags": []
   },
   "outputs": [],
   "source": [
    "behave_dfs = []\n",
    "for split in [\"train\", \"validation\"]:\n",
    "    DATA_PATH = f\"../data/{SOURCE}/{split}/\"\n",
    "    _df_behave = pd.read_parquet(f\"{DATA_PATH}/behaviors.parquet\")\n",
    "    _df_behave = _df_behave[[\"user_id\", \"impression_time\", \"article_ids_clicked\", \"next_read_time\"]]\n",
    "    # as the most clicked article is 1, we can take only the first article\n",
    "    _df_behave[\"article_id\"] = _df_behave[\"article_ids_clicked\"].apply(lambda x: x[0])\n",
    "    _df_behave = _df_behave.drop(columns=[\"article_ids_clicked\"])\n",
    "    _df_behave.columns = [\"user_id\", \"impression_ts\", \"article_read_time\", \"article_id\"]\n",
    "    behave_dfs.append(_df_behave)\n",
    "behave_dfs = pd.concat(behave_dfs, ignore_index=True)"
   ]
  },
  {
   "cell_type": "code",
   "execution_count": 23,
   "metadata": {
    "tags": []
   },
   "outputs": [],
   "source": [
    "behave_dfs.to_parquet(f\"{DATA_PATH}/all.parquet\")"
   ]
  },
  {
   "cell_type": "code",
   "execution_count": 26,
   "metadata": {
    "tags": []
   },
   "outputs": [],
   "source": [
    "# expanding user's history\n",
    "split = \"validation\"\n",
    "#DATA_PATH = f\"../data/{SOURCE}/{split}/\"\n",
    "DATA_PATH = f\"../data/ebnerd_testset/ebnerd_testset/test\"\n",
    "df_history = pd.read_parquet(f\"{DATA_PATH}/history.parquet\")\n",
    "#df_history = pd.read_parquet(f\"{DATA_PATH}/history_exploded.parquet\") "
   ]
  },
  {
   "cell_type": "code",
   "execution_count": 29,
   "metadata": {
    "tags": []
   },
   "outputs": [
    {
     "data": {
      "text/plain": [
       "116825984"
      ]
     },
     "execution_count": 29,
     "metadata": {},
     "output_type": "execute_result"
    }
   ],
   "source": [
    "df_history[\"article_id_fixed\"].apply(lambda x: len(x)).sum()"
   ]
  },
  {
   "cell_type": "code",
   "execution_count": 21,
   "metadata": {
    "tags": []
   },
   "outputs": [],
   "source": [
    "ddf = dd.from_pandas(df_history, npartitions=1000)"
   ]
  },
  {
   "cell_type": "code",
   "execution_count": 22,
   "metadata": {
    "tags": []
   },
   "outputs": [],
   "source": [
    "# Perform the explode operation\n",
    "ddf_exploded = ddf.explode(['impression_time_fixed', 'scroll_percentage_fixed', 'article_id_fixed', 'read_time_fixed'])"
   ]
  },
  {
   "cell_type": "code",
   "execution_count": 23,
   "metadata": {
    "tags": []
   },
   "outputs": [],
   "source": [
    "# Convert back to pandas DataFrame if needed\n",
    "df_history = ddf_exploded.compute()"
   ]
  },
  {
   "cell_type": "code",
   "execution_count": 24,
   "metadata": {
    "tags": []
   },
   "outputs": [],
   "source": [
    "df_history.to_parquet(f\"{DATA_PATH}/history_exploded.parquet\")"
   ]
  },
  {
   "cell_type": "code",
   "execution_count": 25,
   "metadata": {
    "tags": []
   },
   "outputs": [
    {
     "data": {
      "text/html": [
       "<div>\n",
       "<style scoped>\n",
       "    .dataframe tbody tr th:only-of-type {\n",
       "        vertical-align: middle;\n",
       "    }\n",
       "\n",
       "    .dataframe tbody tr th {\n",
       "        vertical-align: top;\n",
       "    }\n",
       "\n",
       "    .dataframe thead th {\n",
       "        text-align: right;\n",
       "    }\n",
       "</style>\n",
       "<table border=\"1\" class=\"dataframe\">\n",
       "  <thead>\n",
       "    <tr style=\"text-align: right;\">\n",
       "      <th></th>\n",
       "      <th>user_id</th>\n",
       "      <th>impression_time_fixed</th>\n",
       "      <th>scroll_percentage_fixed</th>\n",
       "      <th>article_id_fixed</th>\n",
       "      <th>read_time_fixed</th>\n",
       "    </tr>\n",
       "  </thead>\n",
       "  <tbody>\n",
       "    <tr>\n",
       "      <th>0</th>\n",
       "      <td>40107</td>\n",
       "      <td>2023-05-11 07:51:01</td>\n",
       "      <td>15.0</td>\n",
       "      <td>9676294</td>\n",
       "      <td>25.0</td>\n",
       "    </tr>\n",
       "    <tr>\n",
       "      <th>0</th>\n",
       "      <td>40107</td>\n",
       "      <td>2023-05-13 20:09:06</td>\n",
       "      <td>100.0</td>\n",
       "      <td>9763942</td>\n",
       "      <td>39.0</td>\n",
       "    </tr>\n",
       "    <tr>\n",
       "      <th>0</th>\n",
       "      <td>40107</td>\n",
       "      <td>2023-05-13 20:09:46</td>\n",
       "      <td>100.0</td>\n",
       "      <td>9763968</td>\n",
       "      <td>148.0</td>\n",
       "    </tr>\n",
       "    <tr>\n",
       "      <th>0</th>\n",
       "      <td>40107</td>\n",
       "      <td>2023-05-13 20:12:14</td>\n",
       "      <td>NaN</td>\n",
       "      <td>9763905</td>\n",
       "      <td>0.0</td>\n",
       "    </tr>\n",
       "    <tr>\n",
       "      <th>0</th>\n",
       "      <td>40107</td>\n",
       "      <td>2023-05-14 05:22:14</td>\n",
       "      <td>12.0</td>\n",
       "      <td>9764070</td>\n",
       "      <td>11.0</td>\n",
       "    </tr>\n",
       "    <tr>\n",
       "      <th>...</th>\n",
       "      <td>...</td>\n",
       "      <td>...</td>\n",
       "      <td>...</td>\n",
       "      <td>...</td>\n",
       "      <td>...</td>\n",
       "    </tr>\n",
       "    <tr>\n",
       "      <th>807676</th>\n",
       "      <td>2081381</td>\n",
       "      <td>2023-05-18 10:20:38</td>\n",
       "      <td>NaN</td>\n",
       "      <td>9771242</td>\n",
       "      <td>1.0</td>\n",
       "    </tr>\n",
       "    <tr>\n",
       "      <th>807676</th>\n",
       "      <td>2081381</td>\n",
       "      <td>2023-05-18 10:20:42</td>\n",
       "      <td>100.0</td>\n",
       "      <td>9771253</td>\n",
       "      <td>46.0</td>\n",
       "    </tr>\n",
       "    <tr>\n",
       "      <th>807676</th>\n",
       "      <td>2081381</td>\n",
       "      <td>2023-05-18 10:21:31</td>\n",
       "      <td>100.0</td>\n",
       "      <td>9771065</td>\n",
       "      <td>64.0</td>\n",
       "    </tr>\n",
       "    <tr>\n",
       "      <th>807676</th>\n",
       "      <td>2081381</td>\n",
       "      <td>2023-05-18 10:22:38</td>\n",
       "      <td>94.0</td>\n",
       "      <td>9770792</td>\n",
       "      <td>71.0</td>\n",
       "    </tr>\n",
       "    <tr>\n",
       "      <th>807676</th>\n",
       "      <td>2081381</td>\n",
       "      <td>2023-05-18 10:40:56</td>\n",
       "      <td>NaN</td>\n",
       "      <td>9771237</td>\n",
       "      <td>1.0</td>\n",
       "    </tr>\n",
       "  </tbody>\n",
       "</table>\n",
       "<p>116825984 rows × 5 columns</p>\n",
       "</div>"
      ],
      "text/plain": [
       "        user_id impression_time_fixed scroll_percentage_fixed  \\\n",
       "0         40107   2023-05-11 07:51:01                    15.0   \n",
       "0         40107   2023-05-13 20:09:06                   100.0   \n",
       "0         40107   2023-05-13 20:09:46                   100.0   \n",
       "0         40107   2023-05-13 20:12:14                     NaN   \n",
       "0         40107   2023-05-14 05:22:14                    12.0   \n",
       "...         ...                   ...                     ...   \n",
       "807676  2081381   2023-05-18 10:20:38                     NaN   \n",
       "807676  2081381   2023-05-18 10:20:42                   100.0   \n",
       "807676  2081381   2023-05-18 10:21:31                   100.0   \n",
       "807676  2081381   2023-05-18 10:22:38                    94.0   \n",
       "807676  2081381   2023-05-18 10:40:56                     NaN   \n",
       "\n",
       "       article_id_fixed read_time_fixed  \n",
       "0               9676294            25.0  \n",
       "0               9763942            39.0  \n",
       "0               9763968           148.0  \n",
       "0               9763905             0.0  \n",
       "0               9764070            11.0  \n",
       "...                 ...             ...  \n",
       "807676          9771242             1.0  \n",
       "807676          9771253            46.0  \n",
       "807676          9771065            64.0  \n",
       "807676          9770792            71.0  \n",
       "807676          9771237             1.0  \n",
       "\n",
       "[116825984 rows x 5 columns]"
      ]
     },
     "execution_count": 25,
     "metadata": {},
     "output_type": "execute_result"
    }
   ],
   "source": [
    "df_history"
   ]
  },
  {
   "cell_type": "code",
   "execution_count": 17,
   "metadata": {
    "tags": []
   },
   "outputs": [
    {
     "data": {
      "text/html": [
       "<div>\n",
       "<style scoped>\n",
       "    .dataframe tbody tr th:only-of-type {\n",
       "        vertical-align: middle;\n",
       "    }\n",
       "\n",
       "    .dataframe tbody tr th {\n",
       "        vertical-align: top;\n",
       "    }\n",
       "\n",
       "    .dataframe thead th {\n",
       "        text-align: right;\n",
       "    }\n",
       "</style>\n",
       "<table border=\"1\" class=\"dataframe\">\n",
       "  <thead>\n",
       "    <tr style=\"text-align: right;\">\n",
       "      <th></th>\n",
       "      <th>user_id</th>\n",
       "      <th>impression_ts</th>\n",
       "      <th>article_id</th>\n",
       "      <th>article_read_time</th>\n",
       "    </tr>\n",
       "  </thead>\n",
       "  <tbody>\n",
       "    <tr>\n",
       "      <th>0</th>\n",
       "      <td>10029</td>\n",
       "      <td>2023-04-28 06:16:57</td>\n",
       "      <td>9735579</td>\n",
       "      <td>28.0</td>\n",
       "    </tr>\n",
       "    <tr>\n",
       "      <th>0</th>\n",
       "      <td>10029</td>\n",
       "      <td>2023-04-28 06:17:31</td>\n",
       "      <td>9739888</td>\n",
       "      <td>24.0</td>\n",
       "    </tr>\n",
       "    <tr>\n",
       "      <th>0</th>\n",
       "      <td>10029</td>\n",
       "      <td>2023-04-28 06:18:12</td>\n",
       "      <td>9739471</td>\n",
       "      <td>11.0</td>\n",
       "    </tr>\n",
       "    <tr>\n",
       "      <th>0</th>\n",
       "      <td>10029</td>\n",
       "      <td>2023-04-28 06:18:36</td>\n",
       "      <td>9739864</td>\n",
       "      <td>107.0</td>\n",
       "    </tr>\n",
       "    <tr>\n",
       "      <th>0</th>\n",
       "      <td>10029</td>\n",
       "      <td>2023-04-28 06:20:49</td>\n",
       "      <td>9738441</td>\n",
       "      <td>8.0</td>\n",
       "    </tr>\n",
       "    <tr>\n",
       "      <th>...</th>\n",
       "      <td>...</td>\n",
       "      <td>...</td>\n",
       "      <td>...</td>\n",
       "      <td>...</td>\n",
       "    </tr>\n",
       "    <tr>\n",
       "      <th>788089</th>\n",
       "      <td>1541617</td>\n",
       "      <td>2023-05-08 07:31:13</td>\n",
       "      <td>9753603</td>\n",
       "      <td>18.0</td>\n",
       "    </tr>\n",
       "    <tr>\n",
       "      <th>788089</th>\n",
       "      <td>1541617</td>\n",
       "      <td>2023-05-08 07:33:23</td>\n",
       "      <td>9753684</td>\n",
       "      <td>117.0</td>\n",
       "    </tr>\n",
       "    <tr>\n",
       "      <th>788089</th>\n",
       "      <td>1541617</td>\n",
       "      <td>2023-05-08 07:35:27</td>\n",
       "      <td>9753668</td>\n",
       "      <td>115.0</td>\n",
       "    </tr>\n",
       "    <tr>\n",
       "      <th>788089</th>\n",
       "      <td>1541617</td>\n",
       "      <td>2023-05-08 07:37:32</td>\n",
       "      <td>9750772</td>\n",
       "      <td>11.0</td>\n",
       "    </tr>\n",
       "    <tr>\n",
       "      <th>788089</th>\n",
       "      <td>1541617</td>\n",
       "      <td>2023-05-08 07:38:01</td>\n",
       "      <td>9753521</td>\n",
       "      <td>359.0</td>\n",
       "    </tr>\n",
       "  </tbody>\n",
       "</table>\n",
       "<p>125182942 rows × 4 columns</p>\n",
       "</div>"
      ],
      "text/plain": [
       "        user_id       impression_ts article_id article_read_time\n",
       "0         10029 2023-04-28 06:16:57    9735579              28.0\n",
       "0         10029 2023-04-28 06:17:31    9739888              24.0\n",
       "0         10029 2023-04-28 06:18:12    9739471              11.0\n",
       "0         10029 2023-04-28 06:18:36    9739864             107.0\n",
       "0         10029 2023-04-28 06:20:49    9738441               8.0\n",
       "...         ...                 ...        ...               ...\n",
       "788089  1541617 2023-05-08 07:31:13    9753603              18.0\n",
       "788089  1541617 2023-05-08 07:33:23    9753684             117.0\n",
       "788089  1541617 2023-05-08 07:35:27    9753668             115.0\n",
       "788089  1541617 2023-05-08 07:37:32    9750772              11.0\n",
       "788089  1541617 2023-05-08 07:38:01    9753521             359.0\n",
       "\n",
       "[125182942 rows x 4 columns]"
      ]
     },
     "execution_count": 17,
     "metadata": {},
     "output_type": "execute_result"
    }
   ],
   "source": [
    "#df_history = df_history.explode(['impression_time_fixed', 'scroll_percentage_fixed', 'article_id_fixed', 'read_time_fixed'], ignore_index=True)\n",
    "df_history = df_history[[\"user_id\", \"impression_time_fixed\", \"article_id_fixed\", \"read_time_fixed\"]]\n",
    "df_history.columns = [\"user_id\", \"impression_ts\", \"article_id\", \"article_read_time\"]\n",
    "df_history"
   ]
  },
  {
   "cell_type": "code",
   "execution_count": 24,
   "metadata": {
    "tags": []
   },
   "outputs": [
    {
     "data": {
      "text/html": [
       "<div>\n",
       "<style scoped>\n",
       "    .dataframe tbody tr th:only-of-type {\n",
       "        vertical-align: middle;\n",
       "    }\n",
       "\n",
       "    .dataframe tbody tr th {\n",
       "        vertical-align: top;\n",
       "    }\n",
       "\n",
       "    .dataframe thead th {\n",
       "        text-align: right;\n",
       "    }\n",
       "</style>\n",
       "<table border=\"1\" class=\"dataframe\">\n",
       "  <thead>\n",
       "    <tr style=\"text-align: right;\">\n",
       "      <th></th>\n",
       "      <th>user_id</th>\n",
       "      <th>impression_ts</th>\n",
       "      <th>article_read_time</th>\n",
       "      <th>article_id</th>\n",
       "    </tr>\n",
       "  </thead>\n",
       "  <tbody>\n",
       "    <tr>\n",
       "      <th>131668681</th>\n",
       "      <td>10000</td>\n",
       "      <td>2023-05-07 21:04:52</td>\n",
       "      <td>16.0</td>\n",
       "      <td>9752998</td>\n",
       "    </tr>\n",
       "    <tr>\n",
       "      <th>131668682</th>\n",
       "      <td>10000</td>\n",
       "      <td>2023-05-10 14:08:01</td>\n",
       "      <td>18.0</td>\n",
       "      <td>9755010</td>\n",
       "    </tr>\n",
       "    <tr>\n",
       "      <th>131668683</th>\n",
       "      <td>10000</td>\n",
       "      <td>2023-05-11 13:29:45</td>\n",
       "      <td>24.0</td>\n",
       "      <td>9759219</td>\n",
       "    </tr>\n",
       "    <tr>\n",
       "      <th>131668684</th>\n",
       "      <td>10000</td>\n",
       "      <td>2023-05-11 17:35:14</td>\n",
       "      <td>126.0</td>\n",
       "      <td>9760137</td>\n",
       "    </tr>\n",
       "    <tr>\n",
       "      <th>131668685</th>\n",
       "      <td>10000</td>\n",
       "      <td>2023-05-11 17:37:21</td>\n",
       "      <td>81.0</td>\n",
       "      <td>9759355</td>\n",
       "    </tr>\n",
       "    <tr>\n",
       "      <th>...</th>\n",
       "      <td>...</td>\n",
       "      <td>...</td>\n",
       "      <td>...</td>\n",
       "      <td>...</td>\n",
       "    </tr>\n",
       "    <tr>\n",
       "      <th>8081675</th>\n",
       "      <td>2590692</td>\n",
       "      <td>2023-05-23 21:20:48</td>\n",
       "      <td>23.0</td>\n",
       "      <td>9220931</td>\n",
       "    </tr>\n",
       "    <tr>\n",
       "      <th>8081673</th>\n",
       "      <td>2590692</td>\n",
       "      <td>2023-05-23 21:23:16</td>\n",
       "      <td>28.0</td>\n",
       "      <td>9778310</td>\n",
       "    </tr>\n",
       "    <tr>\n",
       "      <th>8081676</th>\n",
       "      <td>2590692</td>\n",
       "      <td>2023-05-23 21:25:25</td>\n",
       "      <td>64.0</td>\n",
       "      <td>9759955</td>\n",
       "    </tr>\n",
       "    <tr>\n",
       "      <th>8081677</th>\n",
       "      <td>2590692</td>\n",
       "      <td>2023-05-23 21:26:21</td>\n",
       "      <td>13.0</td>\n",
       "      <td>9522337</td>\n",
       "    </tr>\n",
       "    <tr>\n",
       "      <th>8081670</th>\n",
       "      <td>2590692</td>\n",
       "      <td>2023-05-23 21:27:26</td>\n",
       "      <td>109.0</td>\n",
       "      <td>9702181</td>\n",
       "    </tr>\n",
       "  </tbody>\n",
       "</table>\n",
       "<p>137246832 rows × 4 columns</p>\n",
       "</div>"
      ],
      "text/plain": [
       "           user_id       impression_ts article_read_time article_id\n",
       "131668681    10000 2023-05-07 21:04:52              16.0    9752998\n",
       "131668682    10000 2023-05-10 14:08:01              18.0    9755010\n",
       "131668683    10000 2023-05-11 13:29:45              24.0    9759219\n",
       "131668684    10000 2023-05-11 17:35:14             126.0    9760137\n",
       "131668685    10000 2023-05-11 17:37:21              81.0    9759355\n",
       "...            ...                 ...               ...        ...\n",
       "8081675    2590692 2023-05-23 21:20:48              23.0    9220931\n",
       "8081673    2590692 2023-05-23 21:23:16              28.0    9778310\n",
       "8081676    2590692 2023-05-23 21:25:25              64.0    9759955\n",
       "8081677    2590692 2023-05-23 21:26:21              13.0    9522337\n",
       "8081670    2590692 2023-05-23 21:27:26             109.0    9702181\n",
       "\n",
       "[137246832 rows x 4 columns]"
      ]
     },
     "execution_count": 24,
     "metadata": {},
     "output_type": "execute_result"
    }
   ],
   "source": [
    "# merging history with the main dataframe\n",
    "df_behave = pd.concat([df_behave, df_history], ignore_index=True)\n",
    "df_behave = df_behave.sort_values(by=[\"user_id\", \"impression_ts\"])\n",
    "df_behave"
   ]
  },
  {
   "cell_type": "code",
   "execution_count": 4,
   "metadata": {
    "tags": []
   },
   "outputs": [],
   "source": [
    "#df_behave.to_parquet(f\"{DATA_PATH}/all_hist.parquet\")\n",
    "df_behave = pd.read_parquet(f\"../data/{SOURCE}/all_hist.parquet\")"
   ]
  },
  {
   "cell_type": "code",
   "execution_count": 5,
   "metadata": {
    "tags": []
   },
   "outputs": [],
   "source": [
    "articles = pd.read_parquet(f\"../data/{SOURCE}/articles.parquet\")"
   ]
  },
  {
   "cell_type": "code",
   "execution_count": 6,
   "metadata": {
    "tags": []
   },
   "outputs": [],
   "source": [
    "# fill total_read_time with median, where it is missing\n",
    "articles = articles.fillna(articles[\"total_read_time\"].median())\n",
    "articles[\"article_ctr\"] = articles[\"total_pageviews\"] / articles[\"total_inviews\"]\n",
    "# fill ctr with median, where it is missing\n",
    "articles = articles.fillna(articles[\"article_ctr\"].median())"
   ]
  },
  {
   "cell_type": "code",
   "execution_count": 7,
   "metadata": {
    "tags": []
   },
   "outputs": [],
   "source": [
    "articles = articles[[\"article_id\", \"premium\", \"article_type\", \"topics\", \"category_str\", \"total_read_time\", \"sentiment_score\", \"article_ctr\"]]"
   ]
  },
  {
   "cell_type": "code",
   "execution_count": 8,
   "metadata": {
    "tags": []
   },
   "outputs": [],
   "source": [
    "articles.columns = [\"article_id\", \"article_is_premium\", \"article_type\", \"article_topics\", \"article_category\", \"article_total_read_time\", \"article_sentiment\", \"article_ctr\"]"
   ]
  },
  {
   "cell_type": "code",
   "execution_count": 9,
   "metadata": {
    "tags": []
   },
   "outputs": [],
   "source": [
    "# merging articles with the main dataframe\n",
    "df_behave = df_behave.merge(articles, on=\"article_id\", how=\"left\")"
   ]
  },
  {
   "cell_type": "code",
   "execution_count": 13,
   "metadata": {
    "tags": []
   },
   "outputs": [
    {
     "data": {
      "text/html": [
       "<div>\n",
       "<style scoped>\n",
       "    .dataframe tbody tr th:only-of-type {\n",
       "        vertical-align: middle;\n",
       "    }\n",
       "\n",
       "    .dataframe tbody tr th {\n",
       "        vertical-align: top;\n",
       "    }\n",
       "\n",
       "    .dataframe thead th {\n",
       "        text-align: right;\n",
       "    }\n",
       "</style>\n",
       "<table border=\"1\" class=\"dataframe\">\n",
       "  <thead>\n",
       "    <tr style=\"text-align: right;\">\n",
       "      <th></th>\n",
       "      <th>user_id</th>\n",
       "      <th>impression_ts</th>\n",
       "      <th>article_read_time</th>\n",
       "      <th>article_id</th>\n",
       "      <th>article_is_premium</th>\n",
       "      <th>article_type</th>\n",
       "      <th>article_topics</th>\n",
       "      <th>article_category</th>\n",
       "      <th>article_total_read_time</th>\n",
       "      <th>article_sentiment</th>\n",
       "      <th>article_ctr</th>\n",
       "    </tr>\n",
       "  </thead>\n",
       "  <tbody>\n",
       "    <tr>\n",
       "      <th>0</th>\n",
       "      <td>10000</td>\n",
       "      <td>2023-05-07 21:04:52</td>\n",
       "      <td>16.0</td>\n",
       "      <td>9752998</td>\n",
       "      <td>False</td>\n",
       "      <td>article_default</td>\n",
       "      <td>[Privat virksomhed, Transportmiddel, Bil, Erhv...</td>\n",
       "      <td>nyheder</td>\n",
       "      <td>14592461.0</td>\n",
       "      <td>0.7704</td>\n",
       "      <td>0.232832</td>\n",
       "    </tr>\n",
       "    <tr>\n",
       "      <th>1</th>\n",
       "      <td>10000</td>\n",
       "      <td>2023-05-10 14:08:01</td>\n",
       "      <td>18.0</td>\n",
       "      <td>9755010</td>\n",
       "      <td>False</td>\n",
       "      <td>article_default</td>\n",
       "      <td>[Kriminalitet, Underholdning, Film og tv, Pers...</td>\n",
       "      <td>underholdning</td>\n",
       "      <td>4219415.0</td>\n",
       "      <td>0.8539</td>\n",
       "      <td>0.194664</td>\n",
       "    </tr>\n",
       "    <tr>\n",
       "      <th>2</th>\n",
       "      <td>10000</td>\n",
       "      <td>2023-05-11 13:29:45</td>\n",
       "      <td>24.0</td>\n",
       "      <td>9759219</td>\n",
       "      <td>False</td>\n",
       "      <td>article_default</td>\n",
       "      <td>[Erhverv, Økonomi, Mikro, Makro]</td>\n",
       "      <td>nyheder</td>\n",
       "      <td>16611023.0</td>\n",
       "      <td>0.9762</td>\n",
       "      <td>0.227514</td>\n",
       "    </tr>\n",
       "    <tr>\n",
       "      <th>3</th>\n",
       "      <td>10000</td>\n",
       "      <td>2023-05-11 17:35:14</td>\n",
       "      <td>126.0</td>\n",
       "      <td>9760137</td>\n",
       "      <td>False</td>\n",
       "      <td>article_default</td>\n",
       "      <td>[Kriminalitet, Transportmiddel, Bil, Politik, ...</td>\n",
       "      <td>nationen</td>\n",
       "      <td>4739068.0</td>\n",
       "      <td>0.9507</td>\n",
       "      <td>0.220218</td>\n",
       "    </tr>\n",
       "    <tr>\n",
       "      <th>4</th>\n",
       "      <td>10000</td>\n",
       "      <td>2023-05-11 17:37:21</td>\n",
       "      <td>81.0</td>\n",
       "      <td>9759355</td>\n",
       "      <td>False</td>\n",
       "      <td>article_default</td>\n",
       "      <td>[Kriminalitet, Personfarlig kriminalitet]</td>\n",
       "      <td>krimi</td>\n",
       "      <td>37657040.0</td>\n",
       "      <td>0.9703</td>\n",
       "      <td>0.324828</td>\n",
       "    </tr>\n",
       "    <tr>\n",
       "      <th>...</th>\n",
       "      <td>...</td>\n",
       "      <td>...</td>\n",
       "      <td>...</td>\n",
       "      <td>...</td>\n",
       "      <td>...</td>\n",
       "      <td>...</td>\n",
       "      <td>...</td>\n",
       "      <td>...</td>\n",
       "      <td>...</td>\n",
       "      <td>...</td>\n",
       "      <td>...</td>\n",
       "    </tr>\n",
       "    <tr>\n",
       "      <th>137246827</th>\n",
       "      <td>2590692</td>\n",
       "      <td>2023-05-23 21:20:48</td>\n",
       "      <td>23.0</td>\n",
       "      <td>9220931</td>\n",
       "      <td>True</td>\n",
       "      <td>article_default</td>\n",
       "      <td>[Livsstil, Erotik]</td>\n",
       "      <td>sex_og_samliv</td>\n",
       "      <td>2334108.0</td>\n",
       "      <td>0.8240</td>\n",
       "      <td>1.000000</td>\n",
       "    </tr>\n",
       "    <tr>\n",
       "      <th>137246828</th>\n",
       "      <td>2590692</td>\n",
       "      <td>2023-05-23 21:23:16</td>\n",
       "      <td>28.0</td>\n",
       "      <td>9778310</td>\n",
       "      <td>False</td>\n",
       "      <td>article_default</td>\n",
       "      <td>[Begivenhed, Sport, Sportsbegivenhed]</td>\n",
       "      <td>sport</td>\n",
       "      <td>1664025.0</td>\n",
       "      <td>0.4819</td>\n",
       "      <td>0.179211</td>\n",
       "    </tr>\n",
       "    <tr>\n",
       "      <th>137246829</th>\n",
       "      <td>2590692</td>\n",
       "      <td>2023-05-23 21:25:25</td>\n",
       "      <td>64.0</td>\n",
       "      <td>9759955</td>\n",
       "      <td>True</td>\n",
       "      <td>article_default</td>\n",
       "      <td>[Kendt, Underholdning, Transportmiddel, Kultur...</td>\n",
       "      <td>underholdning</td>\n",
       "      <td>4437972.0</td>\n",
       "      <td>0.8218</td>\n",
       "      <td>0.062221</td>\n",
       "    </tr>\n",
       "    <tr>\n",
       "      <th>137246830</th>\n",
       "      <td>2590692</td>\n",
       "      <td>2023-05-23 21:26:21</td>\n",
       "      <td>13.0</td>\n",
       "      <td>9522337</td>\n",
       "      <td>True</td>\n",
       "      <td>article_default</td>\n",
       "      <td>[Erhverv, Kendt, Økonomi, Mikro]</td>\n",
       "      <td>underholdning</td>\n",
       "      <td>2334108.0</td>\n",
       "      <td>0.6150</td>\n",
       "      <td>1.000000</td>\n",
       "    </tr>\n",
       "    <tr>\n",
       "      <th>137246831</th>\n",
       "      <td>2590692</td>\n",
       "      <td>2023-05-23 21:27:26</td>\n",
       "      <td>109.0</td>\n",
       "      <td>9702181</td>\n",
       "      <td>False</td>\n",
       "      <td>article_default</td>\n",
       "      <td>[Kendt, Underholdning, Økonomi, Mikro, Politik...</td>\n",
       "      <td>nyheder</td>\n",
       "      <td>3084173.0</td>\n",
       "      <td>0.5661</td>\n",
       "      <td>0.044848</td>\n",
       "    </tr>\n",
       "  </tbody>\n",
       "</table>\n",
       "<p>137246832 rows × 11 columns</p>\n",
       "</div>"
      ],
      "text/plain": [
       "           user_id       impression_ts  article_read_time  article_id  \\\n",
       "0            10000 2023-05-07 21:04:52               16.0     9752998   \n",
       "1            10000 2023-05-10 14:08:01               18.0     9755010   \n",
       "2            10000 2023-05-11 13:29:45               24.0     9759219   \n",
       "3            10000 2023-05-11 17:35:14              126.0     9760137   \n",
       "4            10000 2023-05-11 17:37:21               81.0     9759355   \n",
       "...            ...                 ...                ...         ...   \n",
       "137246827  2590692 2023-05-23 21:20:48               23.0     9220931   \n",
       "137246828  2590692 2023-05-23 21:23:16               28.0     9778310   \n",
       "137246829  2590692 2023-05-23 21:25:25               64.0     9759955   \n",
       "137246830  2590692 2023-05-23 21:26:21               13.0     9522337   \n",
       "137246831  2590692 2023-05-23 21:27:26              109.0     9702181   \n",
       "\n",
       "           article_is_premium     article_type  \\\n",
       "0                       False  article_default   \n",
       "1                       False  article_default   \n",
       "2                       False  article_default   \n",
       "3                       False  article_default   \n",
       "4                       False  article_default   \n",
       "...                       ...              ...   \n",
       "137246827                True  article_default   \n",
       "137246828               False  article_default   \n",
       "137246829                True  article_default   \n",
       "137246830                True  article_default   \n",
       "137246831               False  article_default   \n",
       "\n",
       "                                              article_topics article_category  \\\n",
       "0          [Privat virksomhed, Transportmiddel, Bil, Erhv...          nyheder   \n",
       "1          [Kriminalitet, Underholdning, Film og tv, Pers...    underholdning   \n",
       "2                           [Erhverv, Økonomi, Mikro, Makro]          nyheder   \n",
       "3          [Kriminalitet, Transportmiddel, Bil, Politik, ...         nationen   \n",
       "4                  [Kriminalitet, Personfarlig kriminalitet]            krimi   \n",
       "...                                                      ...              ...   \n",
       "137246827                                 [Livsstil, Erotik]    sex_og_samliv   \n",
       "137246828              [Begivenhed, Sport, Sportsbegivenhed]            sport   \n",
       "137246829  [Kendt, Underholdning, Transportmiddel, Kultur...    underholdning   \n",
       "137246830                   [Erhverv, Kendt, Økonomi, Mikro]    underholdning   \n",
       "137246831  [Kendt, Underholdning, Økonomi, Mikro, Politik...          nyheder   \n",
       "\n",
       "           article_total_read_time  article_sentiment  article_ctr  \n",
       "0                       14592461.0             0.7704     0.232832  \n",
       "1                        4219415.0             0.8539     0.194664  \n",
       "2                       16611023.0             0.9762     0.227514  \n",
       "3                        4739068.0             0.9507     0.220218  \n",
       "4                       37657040.0             0.9703     0.324828  \n",
       "...                            ...                ...          ...  \n",
       "137246827                2334108.0             0.8240     1.000000  \n",
       "137246828                1664025.0             0.4819     0.179211  \n",
       "137246829                4437972.0             0.8218     0.062221  \n",
       "137246830                2334108.0             0.6150     1.000000  \n",
       "137246831                3084173.0             0.5661     0.044848  \n",
       "\n",
       "[137246832 rows x 11 columns]"
      ]
     },
     "execution_count": 13,
     "metadata": {},
     "output_type": "execute_result"
    }
   ],
   "source": [
    "df_behave"
   ]
  },
  {
   "cell_type": "code",
   "execution_count": null,
   "metadata": {
    "tags": []
   },
   "outputs": [],
   "source": [
    "# loading text embeddings\n",
    "#emb_df = pd.read_parquet(TEXT_EMBEDDING_PATH)\n",
    "#emb_df.columns = [\"article_id\", \"article_emb\"]"
   ]
  },
  {
   "cell_type": "code",
   "execution_count": null,
   "metadata": {
    "tags": []
   },
   "outputs": [],
   "source": [
    "#emb_df"
   ]
  },
  {
   "cell_type": "code",
   "execution_count": null,
   "metadata": {
    "tags": []
   },
   "outputs": [],
   "source": [
    "# merging text embeddings with the main dataframe\n",
    "#df_behave = df_behave.merge(emb_df, on=\"article_id\", how=\"left\")\n",
    "#df_behave"
   ]
  },
  {
   "cell_type": "code",
   "execution_count": null,
   "metadata": {
    "tags": []
   },
   "outputs": [],
   "source": [
    "# Helper function to split the DataFrame into chunks of size 'n'\n",
    "def chunker(df, chunk_size):\n",
    "    return [df.iloc[i:i + chunk_size] for i in range(0, df.shape[0], chunk_size)]\n",
    "\n",
    "# Assuming df_behave is your DataFrame\n",
    "df_behave_sorted = df_behave.sort_values('impression_ts', ascending=False)\n",
    "\n",
    "# Create a list to store the resulting chunks\n",
    "chunks = []\n",
    "\n",
    "# Iterate through each group, chunk them, and append to the list\n",
    "for name, group in tqdm(df_behave_sorted.groupby('user_id')):\n",
    "    user_chunks = chunker(group, 20)\n",
    "    for i, chunk in enumerate(user_chunks):\n",
    "        if len(chunk) >= 2:  # Ensure each session has at least two records\n",
    "            chunk['session'] = f'{name}_session_{i+1}'  # Create unique session IDs\n",
    "            chunks.append(chunk)\n",
    "\n",
    "# Concatenate all chunks into a single DataFrame\n",
    "df_result = pd.concat(chunks).reset_index(drop=True)"
   ]
  },
  {
   "cell_type": "code",
   "execution_count": 28,
   "metadata": {
    "tags": []
   },
   "outputs": [],
   "source": [
    "df_result = df_result.fillna(df_result[\"article_read_time\"].median())"
   ]
  },
  {
   "cell_type": "code",
   "execution_count": 29,
   "metadata": {},
   "outputs": [],
   "source": [
    "df_result.to_parquet(f\"../data/{SOURCE}_modified/all.parquet\", index=False)"
   ]
  },
  {
   "cell_type": "code",
   "execution_count": null,
   "metadata": {},
   "outputs": [],
   "source": []
  }
 ],
 "metadata": {
  "environment": {
   "kernel": "recsys",
   "name": "common-cu121.m121",
   "type": "gcloud",
   "uri": "us-docker.pkg.dev/deeplearning-platform-release/gcr.io/base-cu121:m121"
  },
  "kernelspec": {
   "display_name": "recsys (Local)",
   "language": "python",
   "name": "recsys"
  },
  "language_info": {
   "codemirror_mode": {
    "name": "ipython",
    "version": 3
   },
   "file_extension": ".py",
   "mimetype": "text/x-python",
   "name": "python",
   "nbconvert_exporter": "python",
   "pygments_lexer": "ipython3",
   "version": "3.10.14"
  }
 },
 "nbformat": 4,
 "nbformat_minor": 4
}
