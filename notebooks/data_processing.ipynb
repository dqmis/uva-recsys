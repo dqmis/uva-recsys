{
 "cells": [
  {
   "cell_type": "code",
   "execution_count": 1,
   "metadata": {},
   "outputs": [],
   "source": [
    "import pandas as pd\n",
    "import os\n",
    "import polars as pl\n",
    "import pickle"
   ]
  },
  {
   "cell_type": "code",
   "execution_count": 2,
   "metadata": {},
   "outputs": [],
   "source": [
    "DATA_ROOT = \"./data\"\n",
    "DATASET_PATH = \"ebnerd_testset/ebnerd_testset\""
   ]
  },
  {
   "cell_type": "code",
   "execution_count": 3,
   "metadata": {},
   "outputs": [],
   "source": [
    "# processing articles\n",
    "articles = pl.read_parquet(os.path.join(DATA_ROOT, DATASET_PATH, \"articles.parquet\"))\n",
    "articles = articles.with_columns(\n",
    "    pl.col(\"image_ids\").map_elements(lambda x: x[0] if len(x) > 0 else None).alias(\"image_id\")\n",
    ")\n",
    "articles = articles.with_columns(\n",
    "    pl.col(\"topics\").map_elements(lambda x: len(x)).alias(\"topics_count\")\n",
    ")\n",
    "articles = articles.with_columns(\n",
    "    pl.col(\"topics\").map_elements(lambda x: x[0].lower() if len(x) > 0 else None).alias(\"topic\")\n",
    ")\n",
    "articles = articles.with_columns(\n",
    "    pl.col(\"category_str\").str.to_lowercase().alias(\"category\")\n",
    ")\n",
    "articles = articles[[\"article_id\", \"premium\", \"image_id\", \"article_type\", \"topic\", \"topics_count\", \"category\", \"sentiment_score\"]]\n",
    "articles.columns = [\"article_id\", \"is_premium\", \"image_id\", \"article_type\", \"topic\", \"topics_count\", \"category\", \"sentiment_score\"]"
   ]
  },
  {
   "cell_type": "code",
   "execution_count": 4,
   "metadata": {},
   "outputs": [
    {
     "name": "stderr",
     "output_type": "stream",
     "text": [
      "/scratch-local/dseputis.6680505/ipykernel_2245280/2686497832.py:8: DeprecationWarning: `groupby` is deprecated. It has been renamed to `group_by`.\n",
      "  .groupby('user_id')\n"
     ]
    }
   ],
   "source": [
    "# processing history\n",
    "history = pl.read_parquet(os.path.join(DATA_ROOT, DATASET_PATH, \"test\", \"history.parquet\"))\n",
    "history = history.drop(\"scroll_percentage_fixed\")\n",
    "history = history.explode([\"impression_time_fixed\", \"article_id_fixed\", \"read_time_fixed\"])\n",
    "history = (\n",
    "    history\n",
    "    .sort(['user_id', 'impression_time_fixed'], descending=[False, True])\n",
    "    .groupby('user_id')\n",
    "    .agg([\n",
    "        pl.all().head(20)\n",
    "    ])\n",
    "    .explode(pl.all().exclude(\"user_id\"))\n",
    ")"
   ]
  },
  {
   "cell_type": "code",
   "execution_count": 5,
   "metadata": {},
   "outputs": [],
   "source": [
    "# processing behaviors\n",
    "behaviors = pl.read_parquet(os.path.join(DATA_ROOT, DATASET_PATH, \"test\", \"behaviors.parquet\"))\n",
    "\n",
    "inviews = behaviors.select(\"article_ids_inview\")\n",
    "\n",
    "behaviors = behaviors.drop('session_id')\n",
    "behaviors = behaviors.with_row_index(name='session_id')\n",
    "behaviors = behaviors.rename({col: col.replace(\"index\", \"session_id\") for col in behaviors.columns})\n",
    "\n",
    "behaviors = behaviors[[\"session_id\", \"impression_id\", \"user_id\"]]\n",
    "behaviors = behaviors.join(history, on=\"user_id\", how=\"left\")\n",
    "behaviors.columns = [\"session_id\", \"impression_id\", \"user_id\", \"impression_time\", \"article_id\", \"read_time\"]\n",
    "\n",
    "behaviors = behaviors.join(articles, on=\"article_id\", how=\"left\")"
   ]
  },
  {
   "cell_type": "code",
   "execution_count": 6,
   "metadata": {},
   "outputs": [],
   "source": [
    "inviews.write_parquet(os.path.join(DATA_ROOT, DATASET_PATH, \"test\", \"inviews.parquet\"))\n",
    "behaviors.write_parquet(os.path.join(DATA_ROOT, DATASET_PATH, \"all.parquet\"))"
   ]
  },
  {
   "cell_type": "code",
   "execution_count": 7,
   "metadata": {},
   "outputs": [],
   "source": [
    "df = pl.read_parquet(os.path.join(DATA_ROOT, DATASET_PATH, \"all.parquet\"))"
   ]
  }
 ],
 "metadata": {
  "kernelspec": {
   "display_name": "recsys",
   "language": "python",
   "name": "recsys"
  },
  "language_info": {
   "codemirror_mode": {
    "name": "ipython",
    "version": 3
   },
   "file_extension": ".py",
   "mimetype": "text/x-python",
   "name": "python",
   "nbconvert_exporter": "python",
   "pygments_lexer": "ipython3",
   "version": "3.11.9"
  }
 },
 "nbformat": 4,
 "nbformat_minor": 2
}
